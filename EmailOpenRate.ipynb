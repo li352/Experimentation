{
 "cells": [
  {
   "cell_type": "code",
   "execution_count": 2,
   "metadata": {},
   "outputs": [],
   "source": [
    "#from scipy.stats import proportion_confint\n",
    "from statsmodels.stats.proportion import proportion_confint\n",
    "\n"
   ]
  },
  {
   "cell_type": "code",
   "execution_count": 20,
   "metadata": {},
   "outputs": [
    {
     "name": "stdout",
     "output_type": "stream",
     "text": [
      "Marigin of Error:  -0.0014\n",
      "p_a:  0.1\n",
      "Confidence Interval: [0.0814, 0.1186]\n"
     ]
    }
   ],
   "source": [
    "# Specify the number of successes (events of interest) and the sample size for each group\n",
    "successes_a = 100  # Number of successes in Group A\n",
    "n_a = 1000        # Sample size of Group A\n",
    "\n",
    "successes_b = 120  # Number of successes in Group B\n",
    "n_b = 1000        # Sample size of Group B\n",
    "\n",
    "# Calculate the proportion (success rate) for each group\n",
    "p_a = successes_a / n_a\n",
    "p_b = successes_b / n_b\n",
    "\n",
    "# Calculate the margin of error and the confidence interval at a desired confidence level\n",
    "confidence_level = 0.95\n",
    "lower_bound, upper_bound = proportion_confint(successes_a, n_a, alpha=1-confidence_level, method='normal')\n",
    "\n",
    "# # Calculate the lower and upper bounds of the confidence interval\n",
    "# lower_bound = p_b - margin_of_error\n",
    "# upper_bound = p_b + margin_of_error\n",
    "\n",
    "# Print the margin of error and the confidence interval\n",
    "#print(\"Margin of Error: {:.4f}\".format(margin_of_error))\n",
    "print('Marigin of Error: ', round((upper_bound-p_b),4) )\n",
    "print('p_a: ', p_a)\n",
    "print(\"Confidence Interval: [{:.4f}, {:.4f}]\".format(lower_bound, upper_bound))\n"
   ]
  },
  {
   "cell_type": "code",
   "execution_count": 13,
   "metadata": {},
   "outputs": [
    {
     "name": "stdout",
     "output_type": "stream",
     "text": [
      "Marigin of Error:  0.0201\n",
      "p_b:  0.12\n",
      "Confidence Interval: [0.0999, 0.1401]\n"
     ]
    }
   ],
   "source": [
    "# Specify the number of successes (events of interest) and the sample size for each group\n",
    "successes_a = 100  # Number of successes in Group A\n",
    "n_a = 1000        # Sample size of Group A\n",
    "\n",
    "successes_b = 120  # Number of successes in Group B\n",
    "n_b = 1000        # Sample size of Group B\n",
    "\n",
    "# Calculate the proportion (success rate) for each group\n",
    "p_a = successes_a / n_a\n",
    "p_b = successes_b / n_b\n",
    "\n",
    "# Calculate the margin of error and the confidence interval at a desired confidence level\n",
    "confidence_level = 0.95\n",
    "lower_bound, upper_bound = proportion_confint(successes_b, n_b, alpha=1-confidence_level, method='normal')\n",
    "\n",
    "# # Calculate the lower and upper bounds of the confidence interval\n",
    "# lower_bound = p_b - margin_of_error\n",
    "# upper_bound = p_b + margin_of_error\n",
    "\n",
    "# Print the margin of error and the confidence interval\n",
    "#print(\"Margin of Error: {:.4f}\".format(margin_of_error))\n",
    "print('Marigin of Error: ', round((upper_bound-p_b),4) )\n",
    "print('p_b: ', p_b)\n",
    "print(\"Confidence Interval: [{:.4f}, {:.4f}]\".format(lower_bound, upper_bound))\n"
   ]
  },
  {
   "cell_type": "code",
   "execution_count": 17,
   "metadata": {},
   "outputs": [
    {
     "name": "stdout",
     "output_type": "stream",
     "text": [
      "z stat:  -1.4293008498232314\n",
      "p value:  0.1529177818639462\n",
      "There is no significant difference between the groups.\n"
     ]
    }
   ],
   "source": [
    "from statsmodels.stats.proportion import proportions_ztest\n",
    "\n",
    "# Specify the number of successes (events of interest) and the sample size for each group\n",
    "successes_a = 100  # Number of successes in Group A\n",
    "n_a = 1000        # Sample size of Group A\n",
    "\n",
    "successes_b = 120  # Number of successes in Group B\n",
    "n_b = 1000        # Sample size of Group B\n",
    "\n",
    "# Perform the two-proportion z-test\n",
    "successes = [successes_a, successes_b]\n",
    "samples = [n_a, n_b]\n",
    "z_stat, p_value = proportions_ztest(successes, samples)\n",
    "print('z stat: ', z_stat)\n",
    "print('p value: ',  p_value)\n",
    "\n",
    "# Check if the p-value is less than the significance level (e.g., 0.05)\n",
    "significance_level = 0.05\n",
    "if p_value < significance_level:\n",
    "    print(\"The groups are statistically different.\")\n",
    "else:\n",
    "    print(\"There is no significant difference between the groups.\")"
   ]
  },
  {
   "cell_type": "code",
   "execution_count": 18,
   "metadata": {},
   "outputs": [
    {
     "name": "stdout",
     "output_type": "stream",
     "text": [
      "z stat:  0.07470189229928192\n",
      "p value:  0.9404519020452773\n",
      "There is no significant difference between the groups.\n"
     ]
    }
   ],
   "source": [
    "from statsmodels.stats.proportion import proportions_ztest\n",
    "\n",
    "# Specify the number of successes (events of interest) and the sample size for each group\n",
    "successes_a = 100  # Number of successes in Group A\n",
    "n_a = 1000        # Sample size of Group A\n",
    "\n",
    "successes_b = 99  # Number of successes in Group B\n",
    "n_b = 1000        # Sample size of Group B\n",
    "\n",
    "# Perform the two-proportion z-test\n",
    "successes = [successes_a, successes_b]\n",
    "samples = [n_a, n_b]\n",
    "z_stat, p_value = proportions_ztest(successes, samples)\n",
    "print('z stat: ', z_stat)\n",
    "print('p value: ',  p_value)\n",
    "\n",
    "# Check if the p-value is less than the significance level (e.g., 0.05)\n",
    "significance_level = 0.05\n",
    "if p_value < significance_level:\n",
    "    print(\"The groups are statistically different.\")\n",
    "else:\n",
    "    print(\"There is no significant difference between the groups.\")"
   ]
  },
  {
   "cell_type": "code",
   "execution_count": 21,
   "metadata": {},
   "outputs": [
    {
     "name": "stdout",
     "output_type": "stream",
     "text": [
      "z stat:  1.399441889469498\n",
      "p value:  0.161680512719922\n",
      "There is no significant difference between the groups.\n"
     ]
    }
   ],
   "source": [
    "from statsmodels.stats.proportion import proportions_ztest\n",
    "\n",
    "# Specify the number of successes (events of interest) and the sample size for each group\n",
    "successes_a = 100  # Number of successes in Group A\n",
    "n_a = 1000        # Sample size of Group A\n",
    "\n",
    "successes_b = 82  # Number of successes in Group B\n",
    "n_b = 1000        # Sample size of Group B\n",
    "\n",
    "# Perform the two-proportion z-test\n",
    "successes = [successes_a, successes_b]\n",
    "samples = [n_a, n_b]\n",
    "z_stat, p_value = proportions_ztest(successes, samples)\n",
    "print('z stat: ', z_stat)\n",
    "print('p value: ',  p_value)\n",
    "\n",
    "# Check if the p-value is less than the significance level (e.g., 0.05)\n",
    "significance_level = 0.05\n",
    "if p_value < significance_level:\n",
    "    print(\"The groups are statistically different.\")\n",
    "else:\n",
    "    print(\"There is no significant difference between the groups.\")"
   ]
  },
  {
   "cell_type": "code",
   "execution_count": 22,
   "metadata": {},
   "outputs": [
    {
     "name": "stdout",
     "output_type": "stream",
     "text": [
      "z stat:  1.562690769794985\n",
      "p value:  0.11812534648829055\n",
      "There is no significant difference between the groups.\n"
     ]
    }
   ],
   "source": [
    "from statsmodels.stats.proportion import proportions_ztest\n",
    "\n",
    "# Specify the number of successes (events of interest) and the sample size for each group\n",
    "successes_a = 100  # Number of successes in Group A\n",
    "n_a = 1000        # Sample size of Group A\n",
    "\n",
    "successes_b = 80  # Number of successes in Group B\n",
    "n_b = 1000        # Sample size of Group B\n",
    "\n",
    "# Perform the two-proportion z-test\n",
    "successes = [successes_a, successes_b]\n",
    "samples = [n_a, n_b]\n",
    "z_stat, p_value = proportions_ztest(successes, samples)\n",
    "print('z stat: ', z_stat)\n",
    "print('p value: ',  p_value)\n",
    "\n",
    "# Check if the p-value is less than the significance level (e.g., 0.05)\n",
    "significance_level = 0.05\n",
    "if p_value < significance_level:\n",
    "    print(\"The groups are statistically different.\")\n",
    "else:\n",
    "    print(\"There is no significant difference between the groups.\")"
   ]
  },
  {
   "cell_type": "code",
   "execution_count": 28,
   "metadata": {},
   "outputs": [
    {
     "name": "stdout",
     "output_type": "stream",
     "text": [
      "z stat:  1.8943380760602067\n",
      "p value:  0.05818015010036046\n",
      "There is no significant difference between the groups.\n"
     ]
    }
   ],
   "source": [
    "from statsmodels.stats.proportion import proportions_ztest\n",
    "\n",
    "# Specify the number of successes (events of interest) and the sample size for each group\n",
    "successes_a = 100  # Number of successes in Group A\n",
    "n_a = 1000        # Sample size of Group A\n",
    "\n",
    "successes_b = 76  # Number of successes in Group B\n",
    "n_b = 1000        # Sample size of Group B\n",
    "\n",
    "# Perform the two-proportion z-test\n",
    "successes = [successes_a, successes_b]\n",
    "samples = [n_a, n_b]\n",
    "z_stat, p_value = proportions_ztest(successes, samples)\n",
    "print('z stat: ', z_stat)\n",
    "print('p value: ',  p_value)\n",
    "\n",
    "# Check if the p-value is less than the significance level (e.g., 0.05)\n",
    "significance_level = 0.05\n",
    "if p_value < significance_level:\n",
    "    print(\"The groups are statistically different.\")\n",
    "else:\n",
    "    print(\"There is no significant difference between the groups.\")"
   ]
  },
  {
   "cell_type": "code",
   "execution_count": 29,
   "metadata": {},
   "outputs": [
    {
     "name": "stdout",
     "output_type": "stream",
     "text": [
      "z stat:  1.9783564706223273\n",
      "p value:  0.04788850670170673\n",
      "The groups are statistically different.\n"
     ]
    }
   ],
   "source": [
    "from statsmodels.stats.proportion import proportions_ztest\n",
    "\n",
    "# Specify the number of successes (events of interest) and the sample size for each group\n",
    "successes_a = 100  # Number of successes in Group A\n",
    "n_a = 1000        # Sample size of Group A\n",
    "\n",
    "successes_b = 75  # Number of successes in Group B\n",
    "n_b = 1000        # Sample size of Group B\n",
    "\n",
    "# Perform the two-proportion z-test\n",
    "successes = [successes_a, successes_b]\n",
    "samples = [n_a, n_b]\n",
    "z_stat, p_value = proportions_ztest(successes, samples)\n",
    "print('z stat: ', z_stat)\n",
    "print('p value: ',  p_value)\n",
    "\n",
    "# Check if the p-value is less than the significance level (e.g., 0.05)\n",
    "significance_level = 0.05\n",
    "if p_value < significance_level:\n",
    "    print(\"The groups are statistically different.\")\n",
    "else:\n",
    "    print(\"There is no significant difference between the groups.\")"
   ]
  },
  {
   "cell_type": "code",
   "execution_count": null,
   "metadata": {},
   "outputs": [],
   "source": []
  }
 ],
 "metadata": {
  "kernelspec": {
   "display_name": "Python 3",
   "language": "python",
   "name": "python3"
  },
  "language_info": {
   "codemirror_mode": {
    "name": "ipython",
    "version": 3
   },
   "file_extension": ".py",
   "mimetype": "text/x-python",
   "name": "python",
   "nbconvert_exporter": "python",
   "pygments_lexer": "ipython3",
   "version": "3.7.3"
  }
 },
 "nbformat": 4,
 "nbformat_minor": 4
}
